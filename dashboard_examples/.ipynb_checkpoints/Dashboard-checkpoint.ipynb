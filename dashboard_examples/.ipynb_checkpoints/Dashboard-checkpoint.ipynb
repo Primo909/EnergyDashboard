{
 "cells": [
  {
   "cell_type": "code",
   "execution_count": 1,
   "metadata": {},
   "outputs": [
    {
     "name": "stderr",
     "output_type": "stream",
     "text": [
      "<ipython-input-1-b356375b29af>:3: UserWarning: \n",
      "The dash_core_components package is deprecated. Please replace\n",
      "`import dash_core_components as dcc` with `from dash import dcc`\n",
      "  import dash_core_components as dcc\n"
     ]
    }
   ],
   "source": [
    "from jupyter_dash import JupyterDash\n",
    "import dash\n",
    "import dash_core_components as dcc\n",
    "#import dash_html_components as html\n",
    "from dash import html"
   ]
  },
  {
   "cell_type": "code",
   "execution_count": 3,
   "metadata": {},
   "outputs": [
    {
     "ename": "SyntaxError",
     "evalue": "invalid syntax (<ipython-input-3-1a09b3e32f07>, line 6)",
     "output_type": "error",
     "traceback": [
      "\u001b[0;36m  File \u001b[0;32m\"<ipython-input-3-1a09b3e32f07>\"\u001b[0;36m, line \u001b[0;32m6\u001b[0m\n\u001b[0;31m    html.H1(1'IST Energy Monitor - Dashboard 1'),\u001b[0m\n\u001b[0m             ^\u001b[0m\n\u001b[0;31mSyntaxError\u001b[0m\u001b[0;31m:\u001b[0m invalid syntax\n"
     ]
    }
   ],
   "source": [
    "external_stylesheets = ['mystyle.css']\n",
    "\n",
    "app = JupyterDash(__name__, external_stylesheets=external_stylesheets)\n",
    "\n",
    "app.layout = html.Div(\n",
    "    html.H1(1'IST Energy Monitor - Dashboard 1')\n",
    "),\n",
    "\n",
    "html.Div('Visualization of total electricity consumption at IST over the last years'),\n",
    "\n",
    "    dcc.Graph(\n",
    "        id='yearly-data',\n",
    "        figure={\n",
    "            'data': [\n",
    "                {'x': [2017, 2018, 2019], 'y': [9709, 10000, 0], 'type': 'bar', 'name': 'Total'},\n",
    "                {'x': [2017, 2018, 2019], 'y': [1440, 1605, 0], 'type': 'bar', 'name': 'Civil'},\n",
    "                {'x': [2017, 2018, 2019], 'y': [1658, 1598, 0], 'type': 'bar', 'name': 'Central'},\n",
    "                {'x': [2017, 2018, 2019], 'y': [898, 1002, 0], 'type': 'bar', 'name': 'North Tower'},\n",
    "                {'x': [2017, 2018, 2019], 'y': [1555, 1523, 0], 'type': 'bar', 'name': 'South Tower'},\n",
    "            ],\n",
    "            'layout': {\n",
    "                'title': 'IST yearly electricity consumption (kWh)'\n",
    "            }\n",
    "        }\n",
    "    ),\n",
    "\n",
    "\n",
    "\n",
    "])"
   ]
  },
  {
   "cell_type": "code",
   "execution_count": null,
   "metadata": {},
   "outputs": [],
   "source": [
    "#app.run_server()\n",
    "app.run_server(mode=\"inline\")"
   ]
  },
  {
   "cell_type": "code",
   "execution_count": null,
   "metadata": {},
   "outputs": [],
   "source": []
  }
 ],
 "metadata": {
  "kernelspec": {
   "display_name": "Python 3",
   "language": "python",
   "name": "python3"
  },
  "language_info": {
   "codemirror_mode": {
    "name": "ipython",
    "version": 3
   },
   "file_extension": ".py",
   "mimetype": "text/x-python",
   "name": "python",
   "nbconvert_exporter": "python",
   "pygments_lexer": "ipython3",
   "version": "3.8.10"
  }
 },
 "nbformat": 4,
 "nbformat_minor": 5
}
