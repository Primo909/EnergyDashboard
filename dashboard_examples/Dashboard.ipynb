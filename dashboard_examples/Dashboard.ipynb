{
 "cells": [
  {
   "cell_type": "code",
   "execution_count": 13,
   "metadata": {},
   "outputs": [],
   "source": [
    "from jupyter_dash import JupyterDash\n",
    "import dash\n",
    "from dash import dcc\n",
    "#import dash_html_components as html\n",
    "from dash import html"
   ]
  },
  {
   "cell_type": "code",
   "execution_count": 14,
   "metadata": {},
   "outputs": [],
   "source": [
    "external_stylesheets = ['mystyle.css']\n",
    "\n",
    "app = JupyterDash(__name__, external_stylesheets=external_stylesheets)\n",
    "\n",
    "app.layout = html.Div([\n",
    "    html.H1('IST Energy Monitor - Dashboard 1'),\n",
    "\n",
    "html.Div('Visualization of total electricity consumption at IST over the last years'),\n",
    "\n",
    "    dcc.Graph(\n",
    "        id='yearly-data',\n",
    "        figure={\n",
    "            'data': [\n",
    "                {'x': [2017, 2018, 2019], 'y': [9709, 10000, 0], 'type': 'bar', 'name': 'Total'},\n",
    "                {'x': [2017, 2018, 2019], 'y': [1440, 1605, 0], 'type': 'bar', 'name': 'Civil'},\n",
    "                {'x': [2017, 2018, 2019], 'y': [1658, 1598, 0], 'type': 'bar', 'name': 'Central'},\n",
    "                {'x': [2017, 2018, 2019], 'y': [898, 1002, 0], 'type': 'bar', 'name': 'North Tower'},\n",
    "                {'x': [2017, 2018, 2019], 'y': [1555, 1523, 0], 'type': 'bar', 'name': 'South Tower'},\n",
    "            ],\n",
    "            'layout': {\n",
    "                'title': 'IST yearly electricity consumption (kWh)'\n",
    "            }\n",
    "        }\n",
    "    ),\n",
    "\n",
    "\n",
    "\n",
    "])"
   ]
  },
  {
   "cell_type": "code",
   "execution_count": 15,
   "metadata": {},
   "outputs": [
    {
     "name": "stdout",
     "output_type": "stream",
     "text": [
      "Dash is running on http://127.0.0.1:8050/\n",
      "\n"
     ]
    },
    {
     "data": {
      "text/html": [
       "\n",
       "        <iframe\n",
       "            width=\"100%\"\n",
       "            height=\"650\"\n",
       "            src=\"http://127.0.0.1:8050/\"\n",
       "            frameborder=\"0\"\n",
       "            allowfullscreen\n",
       "        ></iframe>\n",
       "        "
      ],
      "text/plain": [
       "<IPython.lib.display.IFrame at 0x7fc6421dc9d0>"
      ]
     },
     "metadata": {},
     "output_type": "display_data"
    }
   ],
   "source": [
    "#app.run_server()\n",
    "app.run_server(mode=\"inline\")"
   ]
  },
  {
   "cell_type": "code",
   "execution_count": null,
   "metadata": {},
   "outputs": [],
   "source": []
  }
 ],
 "metadata": {
  "kernelspec": {
   "display_name": "Python 3",
   "language": "python",
   "name": "python3"
  },
  "language_info": {
   "codemirror_mode": {
    "name": "ipython",
    "version": 3
   },
   "file_extension": ".py",
   "mimetype": "text/x-python",
   "name": "python",
   "nbconvert_exporter": "python",
   "pygments_lexer": "ipython3",
   "version": "3.8.10"
  }
 },
 "nbformat": 4,
 "nbformat_minor": 5
}
